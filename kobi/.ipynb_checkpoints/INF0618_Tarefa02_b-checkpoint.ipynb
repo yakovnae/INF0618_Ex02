{
 "cells": [
  {
   "cell_type": "markdown",
   "metadata": {},
   "source": [
    "# Tarefa 02\n",
    "Nesta tarefa vocês irão projetar duas arquiteturas de CNN utilizando os conceitos, camadas e técnicas vistas no curso. As redes serão treinadas no dataset CIFAR-10 e depois comparadas. As tarefas são:\n",
    "\n",
    "**1) Definir as arquiteturas; ----> 0.3 pontos** \n",
    "\n",
    "- Quantas [camadas](https://keras.io/layers/core/) ela terá?\n",
    "- Quais as operações utilizadas (convoluções, pooling, fully-connected)?\n",
    "- Quais serão os parâmetros de cada camada (número e tamanho dos filtros convolucionais, stride, tamanho do pooling, funções de ativação)?\n",
    "- Que tipo de [inicialização](https://keras.io/initializers/) de pesos você utilizará?\n",
    "- Haverá dropout? Qual a taxa de dropout? \n",
    "- Haverá [regularização](https://keras.io/regularizers/)? Qual a taxa do regularizador?\n",
    "\n",
    "**2) Definir como será o treino; ----> 0.25 pontos**\n",
    "- Número de épocas e tamanho do batch (deixe igual p/ as duas redes);\n",
    "- [Otimizador](https://keras.io/optimizers/);\n",
    "- [Função de custo](https://keras.io/losses/);\n",
    "\n",
    "**3) Classificar o conjunto de teste e comparar os resultados; ----> 0.25 pontos**\n",
    "- Classificar imagens de teste;\n",
    "- Comparar acurácias;\n",
    "- Plotar loss pelo número de épocas no conjunto de treinamento e validação de cada rede. \n",
    "    \n",
    "**4) Escrever um parágrafo com as suas conclusões; ----> 0.2 pontos**\n",
    "\n",
    "-----\n",
    "\n",
    "## CIFAR-10\n",
    "Este conjunto de dados é composto de 60000 imagens coloridas de dimensões 32x32, divididas em 10 classes (com 6000 imagens por classe), sendo 50000 para treinamento e 10000 para teste. As classes do CIFAR-10 são **aviões, automóveis, pássaros, gatos, alces, cachorros, sapos, cavalos, navios, caminhões.**\n",
    "\n",
    "O código abaixo carrega e transforma os dados de entrada para ficarem prontos para serem treinados/classificados pela sua rede. Os conjuntos de treino, validação e teste estão balanceados, portanto a acurácia já estará normalizada nos métodos do Keras.  "
   ]
  },
  {
   "cell_type": "code",
   "execution_count": 1,
   "metadata": {},
   "outputs": [
    {
     "name": "stderr",
     "output_type": "stream",
     "text": [
      "Using TensorFlow backend.\n"
     ]
    },
    {
     "name": "stdout",
     "output_type": "stream",
     "text": [
      "Training matrix shape (40000, 32, 32, 3)\n",
      "Validation matrix shape (10000, 32, 32, 3)\n",
      "Testing matrix shape (10000, 32, 32, 3)\n"
     ]
    }
   ],
   "source": [
    "#Imports\n",
    "import os\n",
    "from numpy import *\n",
    "from random import seed\n",
    "seed(42)\n",
    "\n",
    "import matplotlib.pyplot as plt\n",
    "plt.rcParams['figure.figsize'] = (15,15) # Make the figures a bit bigger\n",
    "\n",
    "from keras.datasets import cifar10\n",
    "from keras.utils import np_utils\n",
    "#from sklearn.cross_validation import StratifiedShuffleSplit\n",
    "from sklearn.model_selection import StratifiedShuffleSplit\n",
    "\n",
    "\n",
    "#Load data\n",
    "(trainVal_data, trainVal_label), (X_test, y_test) = cifar10.load_data()\n",
    "\n",
    "# Caso alguem tenha problemas com o StratifiedShuffleSplit, tente descomentar essa versao\n",
    "#Split trainVal data into train and val sets (already balanced)\n",
    "# splitIdx = StratifiedShuffleSplit(trainVal_label, 1, test_size=10000, random_state=0)\n",
    "# for train_index, val_index in splitIdx:\n",
    "#     X_train, X_val = trainVal_data[train_index], trainVal_data[val_index]\n",
    "#     y_train, y_val = trainVal_label[train_index], trainVal_label[val_index]\n",
    "    \n",
    "\n",
    "splitIdx = StratifiedShuffleSplit(1, test_size=10000, random_state=0)\n",
    "for train_index, val_index in splitIdx.split(trainVal_data, trainVal_label):\n",
    "    X_train, X_val = trainVal_data[train_index], trainVal_data[val_index]\n",
    "    y_train, y_val = trainVal_label[train_index], trainVal_label[val_index]\n",
    "\n",
    "    \n",
    "#Transform data\n",
    "X_train = X_train.reshape(X_train.shape[0], 32, 32, 3)\n",
    "X_val = X_val.reshape(X_val.shape[0], 32, 32, 3)\n",
    "X_test = X_test.reshape(X_test.shape[0], 32, 32, 3)\n",
    "\n",
    "X_train = X_train.astype('float32')\n",
    "X_val = X_val.astype('float32')\n",
    "X_test = X_test.astype('float32')\n",
    "\n",
    "X_train /= 255\n",
    "X_val /= 255\n",
    "X_test /= 255\n",
    "\n",
    "print(\"Training matrix shape\", X_train.shape)\n",
    "print(\"Validation matrix shape\", X_val.shape)\n",
    "print(\"Testing matrix shape\", X_test.shape)\n",
    "\n",
    "Y_train = np_utils.to_categorical(y_train, 10)\n",
    "Y_val = np_utils.to_categorical(y_val, 10)\n",
    "Y_test = np_utils.to_categorical(y_test, 10)"
   ]
  },
  {
   "cell_type": "markdown",
   "metadata": {},
   "source": [
    "--------\n",
    "--------\n",
    "--------\n",
    "**A tarefa de vocês começa aqui!!!**"
   ]
  },
  {
   "cell_type": "markdown",
   "metadata": {},
   "source": [
    "# Definir as duas arquiteturas - [0.3 pontos]\n",
    "***Não se esqueçam de***:\n",
    "    - Importar as camadas utilizadas e o tipo do modelo (Sequential);\n",
    "    - Passar o input_shape na primeira camada da rede;\n",
    "    - Utilizar ativação `softmax` na última camada densa da rede;"
   ]
  },
  {
   "cell_type": "code",
   "execution_count": 2,
   "metadata": {},
   "outputs": [],
   "source": [
    "#Imports\n",
    "import time\n",
    "from keras.models import Sequential\n",
    "from keras.layers.core import Dense, Dropout, Flatten, Activation\n",
    "from keras.layers import Conv2D, MaxPooling2D\n",
    "from keras import optimizers # other stuff needed ... \n",
    "from sklearn.utils.class_weight import compute_class_weight\n",
    "import numpy as np\n",
    "\n",
    "NB_CLASSES=10"
   ]
  },
  {
   "cell_type": "code",
   "execution_count": 3,
   "metadata": {},
   "outputs": [],
   "source": [
    "def mymodel(LR=0.1,\n",
    "F1=20,\n",
    "F2=100,\n",
    "F3=300,\n",
    "conv_act='relu',\n",
    "FC=1000,\n",
    "fc_act='relu',\n",
    "fc_dropout=.01,\n",
    "N_epochs=10):\n",
    "\n",
    "    input= lambda: None\n",
    "    input.LR=LR\n",
    "    input.F1=F1\n",
    "    input.F1=F2\n",
    "    input.F1=F3\n",
    "    input.conv_act=conv_act\n",
    "    input.FC=FC\n",
    "    input.fc_act=fc_act\n",
    "    input.fc_dropout=fc_dropout\n",
    "    input.N_epochs=N_epochs\n",
    "    \n",
    "    #seed(42)\n",
    "    start_time = time.time()\n",
    "    ########### MODEL ###########\n",
    "    model = Sequential()\n",
    "    #CONVOLUTIONAL LAYERS\n",
    "    model.add(Conv2D(F1, kernel_size=(3, 3), activation=conv_act, input_shape=(32, 32, 3)))\n",
    "    model.add(MaxPooling2D(pool_size=(2, 2)))\n",
    "    model.add(Conv2D(F2, kernel_size=(3, 3), activation=conv_act))\n",
    "    model.add(MaxPooling2D(pool_size=(2, 2)))\n",
    "    model.add(Conv2D(F3, kernel_size=(3, 3), activation=conv_act))\n",
    "    #FULLY CONNECTED LAYERS\n",
    "    model.add(Flatten())\n",
    "    model.add(Dropout(fc_dropout))\n",
    "    model.add(Dense(FC))\n",
    "    model.add(Activation(fc_act)) \n",
    "    model.add(Dropout(fc_dropout))\n",
    "    model.add(Dense(FC))\n",
    "    model.add(Activation(fc_act)) \n",
    "    model.add(Dense(10, activation='softmax'))\n",
    "    ########### MODEL ###########\n",
    "\n",
    "    #Compile model\n",
    "    sgd = optimizers.SGD(lr=LR)\n",
    "    model.compile(loss='categorical_crossentropy', optimizer=sgd, metrics=['accuracy'])\n",
    "\n",
    "    #Train first CNN\n",
    "    hist_train = model.fit(X_train, Y_train,\n",
    "              batch_size=128, epochs=N_epochs, verbose=1,\n",
    "              validation_data=(X_val, Y_val))\n",
    "\n",
    "\n",
    "    # Classify test set\n",
    "    unique, counts = np.unique(y_test, return_counts=True)\n",
    "    test_sample_per_class = counts\n",
    "    score = model.evaluate(X_test, Y_test, verbose=1)\n",
    "    predicted_classes = model.predict_classes(X_test, verbose=1)\n",
    "    Y_test_classes = np.argmax(Y_test, axis=-1)\n",
    "    accPerClass = []\n",
    "    for classIdx in range(NB_CLASSES):\n",
    "        idx = (Y_test_classes == classIdx)\n",
    "        correctPred = np.sum(predicted_classes[idx] == Y_test_classes[idx])\n",
    "        accPerClass.append( correctPred / float(test_sample_per_class[classIdx]))\n",
    "    t=time.time() - start_time\n",
    "\n",
    "    res= lambda: None\n",
    "    res.model=model\n",
    "    res.train_val_acc=hist_train.history['val_acc']\n",
    "    res.train_loss=hist_train.history['val_loss']\n",
    "    res.test_loss=score[0]\n",
    "    res.test_acc=np.mean(accPerClass)\n",
    "    res.test_cm=dict(zip(range(19),accPerClass))\n",
    "    res.run_time=t\n",
    "    res.input=input\n",
    "\n",
    "    print(\"Done in: \" ,t,\" sec\")\n",
    "    print('Test loss:', score[0])\n",
    "    print(\"Normalized Acc --> \", np.mean(accPerClass))\n",
    "    print(dict(zip(range(19),accPerClass)), \"\\n\")\n",
    "    return res"
   ]
  },
  {
   "cell_type": "code",
   "execution_count": null,
   "metadata": {},
   "outputs": [
    {
     "name": "stdout",
     "output_type": "stream",
     "text": [
      "Train on 40000 samples, validate on 10000 samples\n",
      "Epoch 1/10\n",
      "34816/40000 [=========================>....] - ETA: 14s - loss: 10.4766 - acc: 0.1173"
     ]
    }
   ],
   "source": [
    "results=[]\n",
    "results.append(mymodel())\n",
    "results.append(mymodel(LR=.001))\n",
    "results.append(mymodel(LR=.05))\n",
    "results.append(mymodel(LR=.01))\n",
    "results.append(mymodel(LR=1))\n",
    "results.append(mymodel(conv_act='sigmoid'))\n",
    "results.append(mymodel(FC=100))\n",
    "results.append(mymodel(FC=10))\n",
    "results.append(mymodel(F1=10,F2=20,F3=30))\n",
    "results.append(mymodel(fc_dropout=.5))\n",
    "results.append(mymodel(fc_dropout=.1))"
   ]
  },
  {
   "cell_type": "markdown",
   "metadata": {},
   "source": [
    "# Treinamento - [0.25 pontos]\n",
    "***Não se esqueçam de***:\n",
    "    - Escolher otimizador e loss;\n",
    "    - Compilar o modelo;\n",
    "    - Definir número de épocas, tamanho do batch (utilizar o mesmo para ambas as redes);\n",
    "    - Passar o conjunto de validação em `validation_data`;"
   ]
  },
  {
   "cell_type": "markdown",
   "metadata": {},
   "source": [
    "# Resultados no conjunto de teste [0.25 pontos]\n",
    "***Não se esqueçam de***:\n",
    "    - Classificar as imagens do conjunto de teste utilizando cada rede;\n",
    "    - Computar acurácia para cada rede;\n",
    "    - Comparar ambas as acurácias;\n",
    "    - Plotar loss pelo número de épocas no conjunto de treinamento e validação de cada rede. "
   ]
  },
  {
   "cell_type": "markdown",
   "metadata": {},
   "source": [
    "# Conclusões [0.2 pontos]\n",
    "Escrevam um parágrafo com as conclusões que vocês tiraram na tarefa. Comentem as diferenças entre as duas arquiteturas e em seus treinamentos, apontando a motivação pelas decisões tomadas. Se o resultado ficou melhor/pior do que o que você esperava, o que você acha que pode ter acontecido?"
   ]
  },
  {
   "cell_type": "code",
   "execution_count": 10,
   "metadata": {},
   "outputs": [],
   "source": [
    "# Write your paragraph here!"
   ]
  }
 ],
 "metadata": {
  "kernelspec": {
   "display_name": "Python 3",
   "language": "python",
   "name": "python3"
  },
  "language_info": {
   "codemirror_mode": {
    "name": "ipython",
    "version": 3
   },
   "file_extension": ".py",
   "mimetype": "text/x-python",
   "name": "python",
   "nbconvert_exporter": "python",
   "pygments_lexer": "ipython3",
   "version": "3.6.6"
  }
 },
 "nbformat": 4,
 "nbformat_minor": 1
}
