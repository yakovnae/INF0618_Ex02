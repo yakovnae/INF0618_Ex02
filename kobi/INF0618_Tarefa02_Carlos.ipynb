{
 "cells": [
  {
   "cell_type": "markdown",
   "metadata": {},
   "source": [
    "# Tarefa 02\n",
    "Nesta tarefa vocês irão projetar duas arquiteturas de CNN utilizando os conceitos, camadas e técnicas vistas no curso. As redes serão treinadas no dataset CIFAR-10 e depois comparadas. As tarefas são:\n",
    "\n",
    "**1) Definir as arquiteturas; ----> 0.3 pontos** \n",
    "\n",
    "- Quantas [camadas](https://keras.io/layers/core/) ela terá?\n",
    "- Quais as operações utilizadas (convoluções, pooling, fully-connected)?\n",
    "- Quais serão os parâmetros de cada camada (número e tamanho dos filtros convolucionais, stride, tamanho do pooling, funções de ativação)?\n",
    "- Que tipo de [inicialização](https://keras.io/initializers/) de pesos você utilizará?\n",
    "- Haverá dropout? Qual a taxa de dropout? \n",
    "- Haverá [regularização](https://keras.io/regularizers/)? Qual a taxa do regularizador?\n",
    "\n",
    "**2) Definir como será o treino; ----> 0.25 pontos**\n",
    "- Número de épocas e tamanho do batch (deixe igual p/ as duas redes);\n",
    "- [Otimizador](https://keras.io/optimizers/);\n",
    "- [Função de custo](https://keras.io/losses/);\n",
    "\n",
    "**3) Classificar o conjunto de teste e comparar os resultados; ----> 0.25 pontos**\n",
    "- Classificar imagens de teste;\n",
    "- Comparar acurácias;\n",
    "- Plotar loss pelo número de épocas no conjunto de treinamento e validação de cada rede. \n",
    "    \n",
    "**4) Escrever um parágrafo com as suas conclusões; ----> 0.2 pontos**\n",
    "\n",
    "-----\n",
    "\n",
    "## CIFAR-10\n",
    "Este conjunto de dados é composto de 60000 imagens coloridas de dimensões 32x32, divididas em 10 classes (com 6000 imagens por classe), sendo 50000 para treinamento e 10000 para teste. As classes do CIFAR-10 são **aviões, automóveis, pássaros, gatos, alces, cachorros, sapos, cavalos, navios, caminhões.**\n",
    "\n",
    "O código abaixo carrega e transforma os dados de entrada para ficarem prontos para serem treinados/classificados pela sua rede. Os conjuntos de treino, validação e teste estão balanceados, portanto a acurácia já estará normalizada nos métodos do Keras.  "
   ]
  },
  {
   "cell_type": "code",
   "execution_count": 19,
   "metadata": {},
   "outputs": [
    {
     "name": "stdout",
     "output_type": "stream",
     "text": [
      "Training matrix shape (40000, 32, 32, 3)\n",
      "Validation matrix shape (10000, 32, 32, 3)\n",
      "Testing matrix shape (10000, 32, 32, 3)\n"
     ]
    }
   ],
   "source": [
    "#Imports\n",
    "import os\n",
    "from numpy import *\n",
    "from random import seed\n",
    "seed(42)\n",
    "\n",
    "import matplotlib.pyplot as plt\n",
    "plt.rcParams['figure.figsize'] = (15,15) # Make the figures a bit bigger\n",
    "\n",
    "from keras.datasets import cifar10\n",
    "from keras.utils import np_utils\n",
    "#from sklearn.cross_validation import StratifiedShuffleSplit\n",
    "from sklearn.model_selection import StratifiedShuffleSplit\n",
    "\n",
    "\n",
    "#Load data\n",
    "(trainVal_data, trainVal_label), (X_test, y_test) = cifar10.load_data()\n",
    "\n",
    "# Caso alguem tenha problemas com o StratifiedShuffleSplit, tente descomentar essa versao\n",
    "#Split trainVal data into train and val sets (already balanced)\n",
    "# splitIdx = StratifiedShuffleSplit(trainVal_label, 1, test_size=10000, random_state=0)\n",
    "# for train_index, val_index in splitIdx:\n",
    "#     X_train, X_val = trainVal_data[train_index], trainVal_data[val_index]\n",
    "#     y_train, y_val = trainVal_label[train_index], trainVal_label[val_index]\n",
    "    \n",
    "\n",
    "splitIdx = StratifiedShuffleSplit(1, test_size=10000, random_state=0)\n",
    "for train_index, val_index in splitIdx.split(trainVal_data, trainVal_label):\n",
    "    X_train, X_val = trainVal_data[train_index], trainVal_data[val_index]\n",
    "    y_train, y_val = trainVal_label[train_index], trainVal_label[val_index]\n",
    "\n",
    "    \n",
    "#Transform data\n",
    "X_train = X_train.reshape(X_train.shape[0], 32, 32, 3)\n",
    "X_val = X_val.reshape(X_val.shape[0], 32, 32, 3)\n",
    "X_test = X_test.reshape(X_test.shape[0], 32, 32, 3)\n",
    "\n",
    "X_train = X_train.astype('float32')\n",
    "X_val = X_val.astype('float32')\n",
    "X_test = X_test.astype('float32')\n",
    "\n",
    "X_train /= 255\n",
    "X_val /= 255\n",
    "X_test /= 255\n",
    "\n",
    "print(\"Training matrix shape\", X_train.shape)\n",
    "print(\"Validation matrix shape\", X_val.shape)\n",
    "print(\"Testing matrix shape\", X_test.shape)\n",
    "\n",
    "Y_train = np_utils.to_categorical(y_train, 10)\n",
    "Y_val = np_utils.to_categorical(y_val, 10)\n",
    "Y_test = np_utils.to_categorical(y_test, 10)"
   ]
  },
  {
   "cell_type": "markdown",
   "metadata": {},
   "source": [
    "--------\n",
    "--------\n",
    "--------\n",
    "**A tarefa de vocês começa aqui!!!**"
   ]
  },
  {
   "cell_type": "markdown",
   "metadata": {},
   "source": [
    "# Definir as duas arquiteturas - [0.3 pontos]\n",
    "***Não se esqueçam de***:\n",
    "    - Importar as camadas utilizadas e o tipo do modelo (Sequential);\n",
    "    - Passar o input_shape na primeira camada da rede;\n",
    "    - Utilizar ativação `softmax` na última camada densa da rede;"
   ]
  },
  {
   "cell_type": "code",
   "execution_count": 21,
   "metadata": {},
   "outputs": [
    {
     "name": "stdout",
     "output_type": "stream",
     "text": [
      "Train --->  {0: 4000, 1: 4000, 2: 4000, 3: 4000, 4: 4000, 5: 4000, 6: 4000, 7: 4000, 8: 4000, 9: 4000} \n",
      "\n"
     ]
    }
   ],
   "source": [
    "#Imports\n",
    "from keras.models import Sequential\n",
    "from keras.layers.core import Dense, Dropout, Flatten, Activation\n",
    "from keras.layers import Conv2D, MaxPooling2D\n",
    "from keras import optimizers # other stuff needed ... \n",
    "\n",
    "import numpy as np\n",
    "nb_classes=10\n",
    "n_epochs=10\n",
    "def reg_y(y):\n",
    "    y_reg=[]\n",
    "    for i in range(len(y)):\n",
    "        y_reg.append(y[i][0])\n",
    "    return y_reg\n",
    "unique, counts = np.unique(y_train, return_counts=True)\n",
    "print(\"Train ---> \", dict(zip(unique, counts)), \"\\n\")\n",
    "\n",
    "from sklearn.utils.class_weight import compute_class_weight\n",
    "class_weights = compute_class_weight('balanced', np.unique(reg_y(y_train)), reg_y(y_train))\n",
    "train_class_weights = dict(enumerate(class_weights))\n",
    "\n",
    "unique, counts = np.unique(y_test, return_counts=True)\n",
    "test_sample_per_class = counts"
   ]
  },
  {
   "cell_type": "code",
   "execution_count": 22,
   "metadata": {},
   "outputs": [],
   "source": [
    "# define your model here\n",
    "model = Sequential()\n",
    "\n",
    "model.add(Conv2D(10, kernel_size=(5, 5),\n",
    "activation='relu', #ReLU activation\n",
    "input_shape=(32, 32, 3))) #no need to include the batch size\n",
    "\n",
    "model.add(MaxPooling2D(pool_size=(2, 2)))\n",
    "\n",
    "model.add(Conv2D(20, kernel_size=(5, 5),\n",
    "activation='relu', #ReLU activation\n",
    "input_shape=(14, 14, 3))) #no need to include the batch size\n",
    "\n",
    "model.add(MaxPooling2D(pool_size=(2, 2)))\n",
    "model.add(Flatten())\n",
    "model.add(Dropout(0.25))\n",
    "model.add(Dense(nb_classes, input_shape=(6000,), activation='softmax'))\n",
    "\n",
    "modelOne=model"
   ]
  },
  {
   "cell_type": "code",
   "execution_count": 89,
   "metadata": {},
   "outputs": [],
   "source": [
    "from keras import regularizers\n",
    "\n",
    "# Define 2nd architecture\n",
    "modelTwo = Sequential()\n",
    "\n",
    "modelTwo.add(Conv2D(64, kernel_size=(7, 7), strides=(2,2), padding='valid', activation='relu', input_shape=(32, 32, 3)))\n",
    "\n",
    "modelTwo.add(Conv2D(16, kernel_size=(5, 5)))\n",
    "\n",
    "modelTwo.add(Conv2D(64, kernel_size=(3, 3)))\n",
    "modelTwo.add(MaxPooling2D(pool_size=(1, 1)))\n",
    "\n",
    "modelTwo.add(Dropout(0.25))\n",
    "\n",
    "modelTwo.add(Conv2D(16, kernel_size=(1, 1)))\n",
    "modelTwo.add(MaxPooling2D(pool_size=(1, 1)))\n",
    "modelTwo.add(Dropout(0.25))\n",
    "\n",
    "modelTwo.add(Conv2D(1000, kernel_size=(3, 3), strides=(2,2)))\n",
    "modelTwo.add(MaxPooling2D(pool_size=(3, 3)))\n",
    "modelTwo.add(Dropout(0.25))\n",
    "\n",
    "modelTwo.add(Conv2D(1000, kernel_size=(1, 1)))\n",
    "\n",
    "modelTwo.add(Flatten())\n",
    "\n",
    "modelTwo.add(Dense(nb_classes, activation='softmax', \n",
    "                   kernel_regularizer=regularizers.l2(0.01),\n",
    "                   activity_regularizer=regularizers.l1(0.01)))"
   ]
  },
  {
   "cell_type": "markdown",
   "metadata": {},
   "source": [
    "# Treinamento - [0.25 pontos]\n",
    "***Não se esqueçam de***:\n",
    "    - Escolher otimizador e loss;\n",
    "    - Compilar o modelo;\n",
    "    - Definir número de épocas, tamanho do batch (utilizar o mesmo para ambas as redes);\n",
    "    - Passar o conjunto de validação em `validation_data`;"
   ]
  },
  {
   "cell_type": "code",
   "execution_count": 14,
   "metadata": {},
   "outputs": [
    {
     "name": "stdout",
     "output_type": "stream",
     "text": [
      "Train on 40000 samples, validate on 10000 samples\n",
      "Epoch 1/3\n",
      "40000/40000 [==============================] - 37s 935us/step - loss: 1.8462 - acc: 0.3327 - val_loss: 1.7679 - val_acc: 0.3792\n",
      "Epoch 2/3\n",
      "19328/40000 [=============>................] - ETA: 20s - loss: 1.8096 - acc: 0.3457"
     ]
    },
    {
     "ename": "KeyboardInterrupt",
     "evalue": "",
     "output_type": "error",
     "traceback": [
      "\u001b[0;31m---------------------------------------------------------------------------\u001b[0m",
      "\u001b[0;31mKeyboardInterrupt\u001b[0m                         Traceback (most recent call last)",
      "\u001b[0;32m<ipython-input-14-e1282c72f2b5>\u001b[0m in \u001b[0;36m<module>\u001b[0;34m()\u001b[0m\n\u001b[1;32m      6\u001b[0m           \u001b[0mbatch_size\u001b[0m\u001b[0;34m=\u001b[0m\u001b[0;36m128\u001b[0m\u001b[0;34m,\u001b[0m \u001b[0mepochs\u001b[0m\u001b[0;34m=\u001b[0m\u001b[0mn_epochs\u001b[0m\u001b[0;34m,\u001b[0m \u001b[0mverbose\u001b[0m\u001b[0;34m=\u001b[0m\u001b[0;36m1\u001b[0m\u001b[0;34m,\u001b[0m\u001b[0;34m\u001b[0m\u001b[0m\n\u001b[1;32m      7\u001b[0m           \u001b[0mclass_weight\u001b[0m \u001b[0;34m=\u001b[0m \u001b[0mtrain_class_weights\u001b[0m\u001b[0;34m,\u001b[0m\u001b[0;34m\u001b[0m\u001b[0m\n\u001b[0;32m----> 8\u001b[0;31m           validation_data=(X_val, Y_val))\n\u001b[0m",
      "\u001b[0;32m/Carlos/Tools/anaconda3/lib/python3.6/site-packages/keras/engine/training.py\u001b[0m in \u001b[0;36mfit\u001b[0;34m(self, x, y, batch_size, epochs, verbose, callbacks, validation_split, validation_data, shuffle, class_weight, sample_weight, initial_epoch, steps_per_epoch, validation_steps, **kwargs)\u001b[0m\n\u001b[1;32m   1037\u001b[0m                                         \u001b[0minitial_epoch\u001b[0m\u001b[0;34m=\u001b[0m\u001b[0minitial_epoch\u001b[0m\u001b[0;34m,\u001b[0m\u001b[0;34m\u001b[0m\u001b[0m\n\u001b[1;32m   1038\u001b[0m                                         \u001b[0msteps_per_epoch\u001b[0m\u001b[0;34m=\u001b[0m\u001b[0msteps_per_epoch\u001b[0m\u001b[0;34m,\u001b[0m\u001b[0;34m\u001b[0m\u001b[0m\n\u001b[0;32m-> 1039\u001b[0;31m                                         validation_steps=validation_steps)\n\u001b[0m\u001b[1;32m   1040\u001b[0m \u001b[0;34m\u001b[0m\u001b[0m\n\u001b[1;32m   1041\u001b[0m     def evaluate(self, x=None, y=None,\n",
      "\u001b[0;32m/Carlos/Tools/anaconda3/lib/python3.6/site-packages/keras/engine/training_arrays.py\u001b[0m in \u001b[0;36mfit_loop\u001b[0;34m(model, f, ins, out_labels, batch_size, epochs, verbose, callbacks, val_f, val_ins, shuffle, callback_metrics, initial_epoch, steps_per_epoch, validation_steps)\u001b[0m\n\u001b[1;32m    197\u001b[0m                     \u001b[0mins_batch\u001b[0m\u001b[0;34m[\u001b[0m\u001b[0mi\u001b[0m\u001b[0;34m]\u001b[0m \u001b[0;34m=\u001b[0m \u001b[0mins_batch\u001b[0m\u001b[0;34m[\u001b[0m\u001b[0mi\u001b[0m\u001b[0;34m]\u001b[0m\u001b[0;34m.\u001b[0m\u001b[0mtoarray\u001b[0m\u001b[0;34m(\u001b[0m\u001b[0;34m)\u001b[0m\u001b[0;34m\u001b[0m\u001b[0m\n\u001b[1;32m    198\u001b[0m \u001b[0;34m\u001b[0m\u001b[0m\n\u001b[0;32m--> 199\u001b[0;31m                 \u001b[0mouts\u001b[0m \u001b[0;34m=\u001b[0m \u001b[0mf\u001b[0m\u001b[0;34m(\u001b[0m\u001b[0mins_batch\u001b[0m\u001b[0;34m)\u001b[0m\u001b[0;34m\u001b[0m\u001b[0m\n\u001b[0m\u001b[1;32m    200\u001b[0m                 \u001b[0mouts\u001b[0m \u001b[0;34m=\u001b[0m \u001b[0mto_list\u001b[0m\u001b[0;34m(\u001b[0m\u001b[0mouts\u001b[0m\u001b[0;34m)\u001b[0m\u001b[0;34m\u001b[0m\u001b[0m\n\u001b[1;32m    201\u001b[0m                 \u001b[0;32mfor\u001b[0m \u001b[0ml\u001b[0m\u001b[0;34m,\u001b[0m \u001b[0mo\u001b[0m \u001b[0;32min\u001b[0m \u001b[0mzip\u001b[0m\u001b[0;34m(\u001b[0m\u001b[0mout_labels\u001b[0m\u001b[0;34m,\u001b[0m \u001b[0mouts\u001b[0m\u001b[0;34m)\u001b[0m\u001b[0;34m:\u001b[0m\u001b[0;34m\u001b[0m\u001b[0m\n",
      "\u001b[0;32m/Carlos/Tools/anaconda3/lib/python3.6/site-packages/keras/backend/tensorflow_backend.py\u001b[0m in \u001b[0;36m__call__\u001b[0;34m(self, inputs)\u001b[0m\n\u001b[1;32m   2713\u001b[0m                 \u001b[0;32mreturn\u001b[0m \u001b[0mself\u001b[0m\u001b[0;34m.\u001b[0m\u001b[0m_legacy_call\u001b[0m\u001b[0;34m(\u001b[0m\u001b[0minputs\u001b[0m\u001b[0;34m)\u001b[0m\u001b[0;34m\u001b[0m\u001b[0m\n\u001b[1;32m   2714\u001b[0m \u001b[0;34m\u001b[0m\u001b[0m\n\u001b[0;32m-> 2715\u001b[0;31m             \u001b[0;32mreturn\u001b[0m \u001b[0mself\u001b[0m\u001b[0;34m.\u001b[0m\u001b[0m_call\u001b[0m\u001b[0;34m(\u001b[0m\u001b[0minputs\u001b[0m\u001b[0;34m)\u001b[0m\u001b[0;34m\u001b[0m\u001b[0m\n\u001b[0m\u001b[1;32m   2716\u001b[0m         \u001b[0;32melse\u001b[0m\u001b[0;34m:\u001b[0m\u001b[0;34m\u001b[0m\u001b[0m\n\u001b[1;32m   2717\u001b[0m             \u001b[0;32mif\u001b[0m \u001b[0mpy_any\u001b[0m\u001b[0;34m(\u001b[0m\u001b[0mis_tensor\u001b[0m\u001b[0;34m(\u001b[0m\u001b[0mx\u001b[0m\u001b[0;34m)\u001b[0m \u001b[0;32mfor\u001b[0m \u001b[0mx\u001b[0m \u001b[0;32min\u001b[0m \u001b[0minputs\u001b[0m\u001b[0;34m)\u001b[0m\u001b[0;34m:\u001b[0m\u001b[0;34m\u001b[0m\u001b[0m\n",
      "\u001b[0;32m/Carlos/Tools/anaconda3/lib/python3.6/site-packages/keras/backend/tensorflow_backend.py\u001b[0m in \u001b[0;36m_call\u001b[0;34m(self, inputs)\u001b[0m\n\u001b[1;32m   2673\u001b[0m             \u001b[0mfetched\u001b[0m \u001b[0;34m=\u001b[0m \u001b[0mself\u001b[0m\u001b[0;34m.\u001b[0m\u001b[0m_callable_fn\u001b[0m\u001b[0;34m(\u001b[0m\u001b[0;34m*\u001b[0m\u001b[0marray_vals\u001b[0m\u001b[0;34m,\u001b[0m \u001b[0mrun_metadata\u001b[0m\u001b[0;34m=\u001b[0m\u001b[0mself\u001b[0m\u001b[0;34m.\u001b[0m\u001b[0mrun_metadata\u001b[0m\u001b[0;34m)\u001b[0m\u001b[0;34m\u001b[0m\u001b[0m\n\u001b[1;32m   2674\u001b[0m         \u001b[0;32melse\u001b[0m\u001b[0;34m:\u001b[0m\u001b[0;34m\u001b[0m\u001b[0m\n\u001b[0;32m-> 2675\u001b[0;31m             \u001b[0mfetched\u001b[0m \u001b[0;34m=\u001b[0m \u001b[0mself\u001b[0m\u001b[0;34m.\u001b[0m\u001b[0m_callable_fn\u001b[0m\u001b[0;34m(\u001b[0m\u001b[0;34m*\u001b[0m\u001b[0marray_vals\u001b[0m\u001b[0;34m)\u001b[0m\u001b[0;34m\u001b[0m\u001b[0m\n\u001b[0m\u001b[1;32m   2676\u001b[0m         \u001b[0;32mreturn\u001b[0m \u001b[0mfetched\u001b[0m\u001b[0;34m[\u001b[0m\u001b[0;34m:\u001b[0m\u001b[0mlen\u001b[0m\u001b[0;34m(\u001b[0m\u001b[0mself\u001b[0m\u001b[0;34m.\u001b[0m\u001b[0moutputs\u001b[0m\u001b[0;34m)\u001b[0m\u001b[0;34m]\u001b[0m\u001b[0;34m\u001b[0m\u001b[0m\n\u001b[1;32m   2677\u001b[0m \u001b[0;34m\u001b[0m\u001b[0m\n",
      "\u001b[0;32m/Carlos/Tools/anaconda3/lib/python3.6/site-packages/tensorflow/python/client/session.py\u001b[0m in \u001b[0;36m__call__\u001b[0;34m(self, *args, **kwargs)\u001b[0m\n\u001b[1;32m   1397\u001b[0m           ret = tf_session.TF_SessionRunCallable(\n\u001b[1;32m   1398\u001b[0m               \u001b[0mself\u001b[0m\u001b[0;34m.\u001b[0m\u001b[0m_session\u001b[0m\u001b[0;34m.\u001b[0m\u001b[0m_session\u001b[0m\u001b[0;34m,\u001b[0m \u001b[0mself\u001b[0m\u001b[0;34m.\u001b[0m\u001b[0m_handle\u001b[0m\u001b[0;34m,\u001b[0m \u001b[0margs\u001b[0m\u001b[0;34m,\u001b[0m \u001b[0mstatus\u001b[0m\u001b[0;34m,\u001b[0m\u001b[0;34m\u001b[0m\u001b[0m\n\u001b[0;32m-> 1399\u001b[0;31m               run_metadata_ptr)\n\u001b[0m\u001b[1;32m   1400\u001b[0m         \u001b[0;32mif\u001b[0m \u001b[0mrun_metadata\u001b[0m\u001b[0;34m:\u001b[0m\u001b[0;34m\u001b[0m\u001b[0m\n\u001b[1;32m   1401\u001b[0m           \u001b[0mproto_data\u001b[0m \u001b[0;34m=\u001b[0m \u001b[0mtf_session\u001b[0m\u001b[0;34m.\u001b[0m\u001b[0mTF_GetBuffer\u001b[0m\u001b[0;34m(\u001b[0m\u001b[0mrun_metadata_ptr\u001b[0m\u001b[0;34m)\u001b[0m\u001b[0;34m\u001b[0m\u001b[0m\n",
      "\u001b[0;31mKeyboardInterrupt\u001b[0m: "
     ]
    }
   ],
   "source": [
    "#Compile first model\n",
    "sgd = optimizers.SGD(lr=0.01) #lr = learning rate\n",
    "modelOne.compile(loss='categorical_crossentropy', optimizer=sgd, metrics=['accuracy'])\n",
    "#Train first CNN\n",
    "modelOne.fit(X_train, Y_train,\n",
    "          batch_size=128, epochs=n_epochs, verbose=1,\n",
    "          class_weight = train_class_weights, \n",
    "          validation_data=(X_val, Y_val))"
   ]
  },
  {
   "cell_type": "code",
   "execution_count": 90,
   "metadata": {
    "scrolled": true
   },
   "outputs": [
    {
     "name": "stdout",
     "output_type": "stream",
     "text": [
      "Train on 40000 samples, validate on 10000 samples\n",
      "Epoch 1/10\n",
      "40000/40000 [==============================] - 187s 5ms/step - loss: 3.2908 - acc: 0.2721 - val_loss: 3.0684 - val_acc: 0.3559\n",
      "Epoch 2/10\n",
      "40000/40000 [==============================] - 190s 5ms/step - loss: 2.9424 - acc: 0.3970 - val_loss: 2.8830 - val_acc: 0.4147\n",
      "Epoch 3/10\n",
      "40000/40000 [==============================] - 181s 5ms/step - loss: 2.8595 - acc: 0.4259 - val_loss: 2.8404 - val_acc: 0.4259\n",
      "Epoch 4/10\n",
      "40000/40000 [==============================] - 167s 4ms/step - loss: 2.7816 - acc: 0.4566 - val_loss: 2.7258 - val_acc: 0.4795\n",
      "Epoch 5/10\n",
      "40000/40000 [==============================] - 173s 4ms/step - loss: 2.7422 - acc: 0.4736 - val_loss: 2.6665 - val_acc: 0.5034\n",
      "Epoch 6/10\n",
      "40000/40000 [==============================] - 164s 4ms/step - loss: 2.6957 - acc: 0.4934 - val_loss: 2.6319 - val_acc: 0.5230\n",
      "Epoch 7/10\n",
      "40000/40000 [==============================] - 179s 4ms/step - loss: 2.6650 - acc: 0.5045 - val_loss: 2.6422 - val_acc: 0.5161\n",
      "Epoch 8/10\n",
      "40000/40000 [==============================] - 165s 4ms/step - loss: 2.6321 - acc: 0.5204 - val_loss: 2.6243 - val_acc: 0.5223\n",
      "Epoch 9/10\n",
      "40000/40000 [==============================] - 165s 4ms/step - loss: 2.6090 - acc: 0.5296 - val_loss: 2.6788 - val_acc: 0.4977\n",
      "Epoch 10/10\n",
      "40000/40000 [==============================] - 165s 4ms/step - loss: 2.5977 - acc: 0.5337 - val_loss: 2.5853 - val_acc: 0.5377\n"
     ]
    }
   ],
   "source": [
    "#Compile second model\n",
    "modelTwo.compile(loss='categorical_crossentropy', optimizer='adam', metrics=['accuracy'])\n",
    "\n",
    "#Train second CNN\n",
    "historyTwo = modelTwo.fit(X_train, Y_train,\n",
    "          batch_size=128, epochs=10, verbose=1,\n",
    "          class_weight = train_class_weights, \n",
    "          validation_data=(X_val, Y_val))\n"
   ]
  },
  {
   "cell_type": "markdown",
   "metadata": {},
   "source": [
    "# Resultados no conjunto de teste [0.25 pontos]\n",
    "***Não se esqueçam de***:\n",
    "    - Classificar as imagens do conjunto de teste utilizando cada rede;\n",
    "    - Computar acurácia para cada rede;\n",
    "    - Comparar ambas as acurácias;\n",
    "    - Plotar loss pelo número de épocas no conjunto de treinamento e validação de cada rede. "
   ]
  },
  {
   "cell_type": "code",
   "execution_count": 91,
   "metadata": {},
   "outputs": [
    {
     "name": "stdout",
     "output_type": "stream",
     "text": [
      "10000/10000 [==============================] - 6s 583us/step\n",
      "Test loss: 1.6222729806900025\n",
      "Test accuracy (NOT NORMALIZED): 0.532\n",
      "{0: 0.0, 1: 0.062, 2: 0.0, 3: 0.899, 4: 0.032, 5: 0.0, 6: 0.001, 7: 0.0, 8: 0.001, 9: 0.004} \n",
      "\n",
      "Normalized Acc -->  0.09990000000000002\n"
     ]
    },
    {
     "data": {
      "text/plain": [
       "<matplotlib.figure.Figure at 0x7feb9743ff98>"
      ]
     },
     "metadata": {},
     "output_type": "display_data"
    },
    {
     "data": {
      "image/png": "[encoded data removed]",
      "text/plain": [
       "<matplotlib.figure.Figure at 0x7feb97431828>"
      ]
     },
     "metadata": {},
     "output_type": "display_data"
    }
   ],
   "source": [
    "import pandas as pd\n",
    "\n",
    "def av_model(model):\n",
    "    # Classify test set\n",
    "    score = model.evaluate(X_test, Y_test, verbose=1)\n",
    "    print('Test loss:', score[0])\n",
    "    print('Test accuracy (NOT NORMALIZED):', score[1])\n",
    "\n",
    "\n",
    "    predicted_classes = modelOne.predict_classes(X_test)\n",
    "    Y_test_classes = np.argmax(Y_test, axis=-1)\n",
    "\n",
    "    accPerClass = []\n",
    "    for classIdx in range(nb_classes):\n",
    "        idx = (Y_test_classes == classIdx)\n",
    "\n",
    "        correctPred = np.sum(predicted_classes[idx] == Y_test_classes[idx])\n",
    "        accPerClass.append( correctPred / float(test_sample_per_class[classIdx]))\n",
    "\n",
    "    print(dict(zip(range(19),accPerClass)), \"\\n\")\n",
    "    print(\"Normalized Acc --> \", np.mean(accPerClass))\n",
    "    \n",
    "def plot_loss_accuracy(history):\n",
    "    historydf = pd.DataFrame(history.history, index=history.epoch)\n",
    "    plt.figure(figsize=(8, 6))\n",
    "    historydf.plot(ylim=(0, max(1, historydf.values.max())))\n",
    "    loss = history.history['loss'][-1]\n",
    "    acc = history.history['acc'][-1]\n",
    "    plt.title('Loss: %.3f, Accuracy: %.3f' % (loss, acc))\n",
    "\n",
    "plot_loss_accuracy(historyTwo)\n",
    "av_model(modelTwo)"
   ]
  },
  {
   "cell_type": "markdown",
   "metadata": {},
   "source": [
    "# Conclusões [0.2 pontos]\n",
    "Escrevam um parágrafo com as conclusões que vocês tiraram na tarefa. Comentem as diferenças entre as duas arquiteturas e em seus treinamentos, apontando a motivação pelas decisões tomadas. Se o resultado ficou melhor/pior do que o que você esperava, o que você acha que pode ter acontecido?"
   ]
  },
  {
   "cell_type": "code",
   "execution_count": 10,
   "metadata": {},
   "outputs": [],
   "source": [
    "# Write your paragraph here!"
   ]
  }
 ],
 "metadata": {
  "kernelspec": {
   "display_name": "Python 3",
   "language": "python",
   "name": "python3"
  },
  "language_info": {
   "codemirror_mode": {
    "name": "ipython",
    "version": 3
   },
   "file_extension": ".py",
   "mimetype": "text/x-python",
   "name": "python",
   "nbconvert_exporter": "python",
   "pygments_lexer": "ipython3",
   "version": "3.6.4"
  }
 },
 "nbformat": 4,
 "nbformat_minor": 1
}
