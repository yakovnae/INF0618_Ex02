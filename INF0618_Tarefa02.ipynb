{
 "cells": [
  {
   "cell_type": "markdown",
   "metadata": {},
   "source": [
    "# Tarefa 02\n",
    "Nesta tarefa vocês irão projetar duas arquiteturas de CNN utilizando os conceitos, camadas e técnicas vistas no curso. As redes serão treinadas no dataset CIFAR-10 e depois comparadas. As tarefas são:\n",
    "\n",
    "**1) Definir as arquiteturas; ----> 0.3 pontos** \n",
    "\n",
    "- Quantas [camadas](https://keras.io/layers/core/) ela terá?\n",
    "- Quais as operações utilizadas (convoluções, pooling, fully-connected)?\n",
    "- Quais serão os parâmetros de cada camada (número e tamanho dos filtros convolucionais, stride, tamanho do pooling, funções de ativação)?\n",
    "- Que tipo de [inicialização](https://keras.io/initializers/) de pesos você utilizará?\n",
    "- Haverá dropout? Qual a taxa de dropout? \n",
    "- Haverá [regularização](https://keras.io/regularizers/)? Qual a taxa do regularizador?\n",
    "\n",
    "**2) Definir como será o treino; ----> 0.25 pontos**\n",
    "- Número de épocas e tamanho do batch (deixe igual p/ as duas redes);\n",
    "- [Otimizador](https://keras.io/optimizers/);\n",
    "- [Função de custo](https://keras.io/losses/);\n",
    "\n",
    "**3) Classificar o conjunto de teste e comparar os resultados; ----> 0.25 pontos**\n",
    "- Classificar imagens de teste;\n",
    "- Comparar acurácias;\n",
    "- Plotar loss pelo número de épocas no conjunto de treinamento e validação de cada rede. \n",
    "    \n",
    "**4) Escrever um parágrafo com as suas conclusões; ----> 0.2 pontos**\n",
    "\n",
    "-----\n",
    "\n",
    "## CIFAR-10\n",
    "Este conjunto de dados é composto de 60000 imagens coloridas de dimensões 32x32, divididas em 10 classes (com 6000 imagens por classe), sendo 50000 para treinamento e 10000 para teste. As classes do CIFAR-10 são **aviões, automóveis, pássaros, gatos, alces, cachorros, sapos, cavalos, navios, caminhões.**\n",
    "\n",
    "O código abaixo carrega e transforma os dados de entrada para ficarem prontos para serem treinados/classificados pela sua rede. Os conjuntos de treino, validação e teste estão balanceados, portanto a acurácia já estará normalizada nos métodos do Keras.  "
   ]
  },
  {
   "cell_type": "code",
   "execution_count": 1,
   "metadata": {},
   "outputs": [
    {
     "name": "stderr",
     "output_type": "stream",
     "text": [
      "Using TensorFlow backend.\n"
     ]
    },
    {
     "name": "stdout",
     "output_type": "stream",
     "text": [
      "Training matrix shape (40000, 32, 32, 3)\n",
      "Validation matrix shape (10000, 32, 32, 3)\n",
      "Testing matrix shape (10000, 32, 32, 3)\n"
     ]
    }
   ],
   "source": [
    "#Imports\n",
    "import os\n",
    "import numpy as np\n",
    "from random import seed\n",
    "seed(42)\n",
    "\n",
    "import matplotlib.pyplot as plt\n",
    "plt.rcParams['figure.figsize'] = (15,15) # Make the figures a bit bigger\n",
    "\n",
    "from keras.datasets import cifar10\n",
    "from keras.utils import np_utils\n",
    "#from sklearn.cross_validation import StratifiedShuffleSplit\n",
    "from sklearn.model_selection import StratifiedShuffleSplit\n",
    "\n",
    "\n",
    "#Load data\n",
    "(trainVal_data, trainVal_label), (X_test, y_test) = cifar10.load_data()\n",
    "\n",
    "# Caso alguem tenha problemas com o StratifiedShuffleSplit, tente descomentar essa versao\n",
    "#Split trainVal data into train and val sets (already balanced)\n",
    "# splitIdx = StratifiedShuffleSplit(trainVal_label, 1, test_size=10000, random_state=0)\n",
    "# for train_index, val_index in splitIdx:\n",
    "#     X_train, X_val = trainVal_data[train_index], trainVal_data[val_index]\n",
    "#     y_train, y_val = trainVal_label[train_index], trainVal_label[val_index]\n",
    "    \n",
    "\n",
    "splitIdx = StratifiedShuffleSplit(1, test_size=10000, random_state=0)\n",
    "for train_index, val_index in splitIdx.split(trainVal_data, trainVal_label):\n",
    "    X_train, X_val = trainVal_data[train_index], trainVal_data[val_index]\n",
    "    y_train, y_val = trainVal_label[train_index], trainVal_label[val_index]\n",
    "\n",
    "    \n",
    "#Transform data\n",
    "X_train = X_train.reshape(X_train.shape[0], 32, 32, 3)\n",
    "X_val = X_val.reshape(X_val.shape[0], 32, 32, 3)\n",
    "X_test = X_test.reshape(X_test.shape[0], 32, 32, 3)\n",
    "\n",
    "X_train = X_train.astype('float32')\n",
    "X_val = X_val.astype('float32')\n",
    "X_test = X_test.astype('float32')\n",
    "\n",
    "X_train /= 255\n",
    "X_val /= 255\n",
    "X_test /= 255\n",
    "\n",
    "print(\"Training matrix shape\", X_train.shape)\n",
    "print(\"Validation matrix shape\", X_val.shape)\n",
    "print(\"Testing matrix shape\", X_test.shape)\n",
    "\n",
    "Y_train = np_utils.to_categorical(y_train, 10)\n",
    "Y_val = np_utils.to_categorical(y_val, 10)\n",
    "Y_test = np_utils.to_categorical(y_test, 10)"
   ]
  },
  {
   "cell_type": "markdown",
   "metadata": {},
   "source": [
    "--------\n",
    "--------\n",
    "--------\n",
    "**A tarefa de vocês começa aqui!!!**"
   ]
  },
  {
   "cell_type": "markdown",
   "metadata": {},
   "source": [
    "# Definir as duas arquiteturas - [0.3 pontos]\n",
    "***Não se esqueçam de***:\n",
    "    - Importar as camadas utilizadas e o tipo do modelo (Sequential);\n",
    "    - Passar o input_shape na primeira camada da rede;\n",
    "    - Utilizar ativação `softmax` na última camada densa da rede;"
   ]
  },
  {
   "cell_type": "code",
   "execution_count": 9,
   "metadata": {},
   "outputs": [
    {
     "name": "stdout",
     "output_type": "stream",
     "text": [
      "Train --->  {0: 4000, 1: 4000, 2: 4000, 3: 4000, 4: 4000, 5: 4000, 6: 4000, 7: 4000, 8: 4000, 9: 4000} \n",
      "\n"
     ]
    }
   ],
   "source": [
    "#Imports\n",
    "import time\n",
    "from keras.models import Sequential\n",
    "from keras.layers.core import Dense, Dropout, Flatten, Activation\n",
    "from keras.layers import Conv2D, MaxPooling2D\n",
    "from keras import optimizers # other stuff needed ... \n",
    "from keras import regularizers\n",
    "import pandas as pd\n",
    "import numpy as np\n",
    "\n",
    "nb_classes=10\n",
    "def reg_y(y):\n",
    "    y_reg=[]\n",
    "    for i in range(len(y)):\n",
    "        y_reg.append(y[i][0])\n",
    "    return y_reg\n",
    "unique, counts = np.unique(y_train, return_counts=True)\n",
    "print(\"Train ---> \", dict(zip(unique, counts)), \"\\n\")\n",
    "\n",
    "from sklearn.utils.class_weight import compute_class_weight\n",
    "class_weights = compute_class_weight('balanced', np.unique(reg_y(y_train)), reg_y(y_train))\n",
    "train_class_weights = dict(enumerate(class_weights))\n",
    "\n",
    "unique, counts = np.unique(y_test, return_counts=True)\n",
    "test_sample_per_class = counts"
   ]
  },
  {
   "cell_type": "code",
   "execution_count": 3,
   "metadata": {},
   "outputs": [],
   "source": [
    "# Define 1st architecture\n",
    "\n",
    "modelOne = Sequential()\n",
    "#CONVOLUTIONAL LAYERS\n",
    "modelOne.add(Conv2D(10, kernel_size=(3, 3), activation='relu', input_shape=(32, 32, 3)))\n",
    "modelOne.add(MaxPooling2D(pool_size=(2, 2)))\n",
    "modelOne.add(Conv2D(20, kernel_size=(3, 3), activation='relu'))\n",
    "modelOne.add(MaxPooling2D(pool_size=(2, 2)))\n",
    "modelOne.add(Conv2D(30, kernel_size=(3, 3), activation='relu'))\n",
    "#FULLY CONNECTED LAYERS\n",
    "modelOne.add(Flatten())\n",
    "modelOne.add(Dropout(.01))\n",
    "modelOne.add(Dense(1000))\n",
    "modelOne.add(Activation('relu')) \n",
    "modelOne.add(Dropout(.01))\n",
    "modelOne.add(Dense(1000))\n",
    "modelOne.add(Activation('relu')) \n",
    "modelOne.add(Dense(10, activation='softmax'))"
   ]
  },
  {
   "cell_type": "code",
   "execution_count": 4,
   "metadata": {},
   "outputs": [],
   "source": [
    "# Define 2nd architecture\n",
    "modelTwo = Sequential()\n",
    "\n",
    "modelTwo.add(Conv2D(64, kernel_size=(7, 7), strides=(2,2), padding='valid', activation='relu', input_shape=(32, 32, 3)))\n",
    "modelTwo.add(Conv2D(16, kernel_size=(5, 5)))\n",
    "modelTwo.add(Conv2D(64, kernel_size=(3, 3)))\n",
    "modelTwo.add(MaxPooling2D(pool_size=(1, 1)))\n",
    "modelTwo.add(Dropout(0.25))\n",
    "modelTwo.add(Conv2D(16, kernel_size=(1, 1)))\n",
    "modelTwo.add(MaxPooling2D(pool_size=(1, 1)))\n",
    "modelTwo.add(Dropout(0.25))\n",
    "modelTwo.add(Conv2D(1000, kernel_size=(3, 3), strides=(2,2)))\n",
    "modelTwo.add(MaxPooling2D(pool_size=(3, 3)))\n",
    "modelTwo.add(Dropout(0.25))\n",
    "modelTwo.add(Conv2D(1000, kernel_size=(1, 1)))\n",
    "\n",
    "modelTwo.add(Flatten())\n",
    "modelTwo.add(Dense(nb_classes, activation='softmax', \n",
    "                   kernel_regularizer=regularizers.l2(0.01),\n",
    "                   activity_regularizer=regularizers.l1(0.01)))"
   ]
  },
  {
   "cell_type": "markdown",
   "metadata": {},
   "source": [
    "# Treinamento - [0.25 pontos]\n",
    "***Não se esqueçam de***:\n",
    "    - Escolher otimizador e loss;\n",
    "    - Compilar o modelo;\n",
    "    - Definir número de épocas, tamanho do batch (utilizar o mesmo para ambas as redes);\n",
    "    - Passar o conjunto de validação em `validation_data`;"
   ]
  },
  {
   "cell_type": "code",
   "execution_count": 5,
   "metadata": {},
   "outputs": [],
   "source": [
    "N_epochs=10"
   ]
  },
  {
   "cell_type": "code",
   "execution_count": 6,
   "metadata": {},
   "outputs": [
    {
     "name": "stdout",
     "output_type": "stream",
     "text": [
      "Train on 40000 samples, validate on 10000 samples\n",
      "Epoch 1/3\n",
      "40000/40000 [==============================] - 48s 1ms/step - loss: 2.1545 - acc: 0.2028 - val_loss: 1.9976 - val_acc: 0.2673\n",
      "Epoch 2/3\n",
      "40000/40000 [==============================] - 47s 1ms/step - loss: 1.8741 - acc: 0.3241 - val_loss: 1.7655 - val_acc: 0.3804\n",
      "Epoch 3/3\n",
      "40000/40000 [==============================] - 44s 1ms/step - loss: 1.6666 - acc: 0.4019 - val_loss: 1.6214 - val_acc: 0.4156\n",
      "modelOne took  2.3287505308787027  minutes\n"
     ]
    }
   ],
   "source": [
    "#Compile first model\n",
    "seed(42)\n",
    "start_time = time.time()\n",
    "sgd = optimizers.SGD(lr=0.05)\n",
    "modelOne.compile(loss='categorical_crossentropy', optimizer=sgd, metrics=['accuracy'])\n",
    "#Train first CNN\n",
    "historyOne = modelOne.fit(X_train, Y_train,\n",
    "          batch_size=128, epochs=N_epochs, verbose=1,\n",
    "          class_weight = train_class_weights, \n",
    "          validation_data=(X_val, Y_val))\n",
    "print(\"modelOne took \",(time.time() - start_time)/60, \" minutes\")"
   ]
  },
  {
   "cell_type": "code",
   "execution_count": 7,
   "metadata": {},
   "outputs": [
    {
     "name": "stdout",
     "output_type": "stream",
     "text": [
      "Train on 40000 samples, validate on 10000 samples\n",
      "Epoch 1/3\n",
      "40000/40000 [==============================] - 144s 4ms/step - loss: 3.2474 - acc: 0.2823 - val_loss: 2.9463 - val_acc: 0.4012\n",
      "Epoch 2/3\n",
      "40000/40000 [==============================] - 149s 4ms/step - loss: 2.9195 - acc: 0.4045 - val_loss: 2.9064 - val_acc: 0.4084\n",
      "Epoch 3/3\n",
      "40000/40000 [==============================] - 127s 3ms/step - loss: 2.8346 - acc: 0.4368 - val_loss: 2.8371 - val_acc: 0.4364\n",
      "modelTwo took  7.025127800305684  minutes\n"
     ]
    }
   ],
   "source": [
    "#Compile second model\n",
    "seed(42)\n",
    "start_time = time.time()\n",
    "modelTwo.compile(loss='categorical_crossentropy', optimizer='adam', metrics=['accuracy'])\n",
    "#Train second CNN\n",
    "historyTwo = modelTwo.fit(X_train, Y_train,\n",
    "          batch_size=128, epochs=N_epochs, verbose=1,\n",
    "          class_weight = train_class_weights, \n",
    "          validation_data=(X_val, Y_val))\n",
    "print(\"modelTwo took \",(time.time() - start_time)/60, \" minutes\")"
   ]
  },
  {
   "cell_type": "markdown",
   "metadata": {},
   "source": [
    "# Resultados no conjunto de teste [0.25 pontos]\n",
    "***Não se esqueçam de***:\n",
    "    - Classificar as imagens do conjunto de teste utilizando cada rede;\n",
    "    - Computar acurácia para cada rede;\n",
    "    - Comparar ambas as acurácias;\n",
    "    - Plotar loss pelo número de épocas no conjunto de treinamento e validação de cada rede. "
   ]
  },
  {
   "cell_type": "code",
   "execution_count": 14,
   "metadata": {},
   "outputs": [
    {
     "name": "stdout",
     "output_type": "stream",
     "text": [
      "10000/10000 [==============================] - 4s 434us/step\n",
      "Test loss: 1.6098692972183228\n",
      "Test accuracy (NOT NORMALIZED): 0.4197\n",
      "{0: 0.686, 1: 0.433, 2: 0.511, 3: 0.297, 4: 0.357, 5: 0.277, 6: 0.442, 7: 0.455, 8: 0.262, 9: 0.477}\n",
      "Normalized Acc -->  0.4197 \n",
      "\n",
      "\n",
      "10000/10000 [==============================] - 6s 635us/step\n",
      "Test loss: 1.871272794151306\n",
      "Test accuracy (NOT NORMALIZED): 0.4352\n",
      "{0: 0.415, 1: 0.708, 2: 0.058, 3: 0.32, 4: 0.462, 5: 0.21, 6: 0.723, 7: 0.366, 8: 0.778, 9: 0.312}\n",
      "Normalized Acc -->  0.43520000000000003 \n",
      "\n",
      "\n"
     ]
    },
    {
     "data": {
      "text/plain": [
       "<Figure size 576x432 with 0 Axes>"
      ]
     },
     "metadata": {},
     "output_type": "display_data"
    },
    {
     "data": {
      "image/png": "[encoded data removed]",
      "text/plain": [
       "<Figure size 432x288 with 1 Axes>"
      ]
     },
     "metadata": {
      "needs_background": "light"
     },
     "output_type": "display_data"
    },
    {
     "data": {
      "text/plain": [
       "<Figure size 576x432 with 0 Axes>"
      ]
     },
     "metadata": {},
     "output_type": "display_data"
    },
    {
     "data": {
      "image/png": "[encoded data removed]",
      "text/plain": [
       "<Figure size 432x288 with 1 Axes>"
      ]
     },
     "metadata": {
      "needs_background": "light"
     },
     "output_type": "display_data"
    }
   ],
   "source": [
    "def av_model(model):\n",
    "    # Classify test set\n",
    "    score = model.evaluate(X_test, Y_test, verbose=1)\n",
    "\n",
    "\n",
    "    predicted_classes = model.predict_classes(X_test)\n",
    "    Y_test_classes = np.argmax(Y_test, axis=-1)\n",
    "\n",
    "    accPerClass = []\n",
    "    for classIdx in range(nb_classes):\n",
    "        idx = (Y_test_classes == classIdx)\n",
    "\n",
    "        correctPred = np.sum(predicted_classes[idx] == Y_test_classes[idx])\n",
    "        accPerClass.append( correctPred / float(test_sample_per_class[classIdx]))\n",
    "\n",
    "    print('Test loss:', score[0])\n",
    "    print('Test accuracy (NOT NORMALIZED):', score[1])\n",
    "    print(dict(zip(range(19),accPerClass)))\n",
    "    print(\"Normalized Acc --> \", np.mean(accPerClass),\"\\n\\n\")\n",
    "    \n",
    "def plot_loss_accuracy(history):\n",
    "    historydf = pd.DataFrame(history.history, index=history.epoch)\n",
    "    plt.figure(figsize=(8, 6))\n",
    "    historydf.plot(ylim=(0, max(1, historydf.values.max())))\n",
    "    loss = history.history['loss'][-1]\n",
    "    acc = history.history['acc'][-1]\n",
    "    plt.title('Loss: %.3f, Accuracy: %.3f' % (loss, acc))\n",
    "\n",
    "plot_loss_accuracy(historyOne)\n",
    "av_model(modelOne)\n",
    "plot_loss_accuracy(historyTwo)\n",
    "av_model(modelTwo)"
   ]
  },
  {
   "cell_type": "code",
   "execution_count": 15,
   "metadata": {},
   "outputs": [
    {
     "data": {
      "text/plain": [
       "[2.1545093173980714, 1.8741413230895996, 1.6666332492828368]"
      ]
     },
     "execution_count": 15,
     "metadata": {},
     "output_type": "execute_result"
    }
   ],
   "source": [
    "historyOne.history['loss']"
   ]
  },
  {
   "cell_type": "markdown",
   "metadata": {},
   "source": [
    "# Conclusões [0.2 pontos]\n",
    "Escrevam um parágrafo com as conclusões que vocês tiraram na tarefa. Comentem as diferenças entre as duas arquiteturas e em seus treinamentos, apontando a motivação pelas decisões tomadas. Se o resultado ficou melhor/pior do que o que você esperava, o que você acha que pode ter acontecido?"
   ]
  },
  {
   "cell_type": "code",
   "execution_count": 38,
   "metadata": {},
   "outputs": [
    {
     "data": {
      "text/plain": [
       "<matplotlib.legend.Legend at 0x1a322c1be0>"
      ]
     },
     "execution_count": 38,
     "metadata": {},
     "output_type": "execute_result"
    },
    {
     "data": {
      "image/png": "[encoded data removed]",
      "text/plain": [
       "<Figure size 432x288 with 1 Axes>"
      ]
     },
     "metadata": {
      "needs_background": "light"
     },
     "output_type": "display_data"
    }
   ],
   "source": [
    "# Write your paragraph here!\n",
    "import matplotlib.pyplot as plt\n",
    "plt.plot(range(N_epochs),historyOne.history['val_loss'],'go-', label='loss one')\n",
    "plt.plot(range(N_epochs),historyOne.history['val_acc'], '-g+',  label='acc one')\n",
    "plt.plot(range(N_epochs),historyTwo.history['val_loss'],'ro-', label='loss two')\n",
    "plt.plot(range(N_epochs),historyTwo.history['val_acc'], '-r+',  label='acc two')\n",
    "plt.legend()\n"
   ]
  }
 ],
 "metadata": {
  "kernelspec": {
   "display_name": "Python 3",
   "language": "python",
   "name": "python3"
  },
  "language_info": {
   "codemirror_mode": {
    "name": "ipython",
    "version": 3
   },
   "file_extension": ".py",
   "mimetype": "text/x-python",
   "name": "python",
   "nbconvert_exporter": "python",
   "pygments_lexer": "ipython3",
   "version": "3.6.6"
  }
 },
 "nbformat": 4,
 "nbformat_minor": 1
}
